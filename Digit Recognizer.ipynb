{
 "cells": [
  {
   "cell_type": "markdown",
   "metadata": {
    "_cell_guid": "b1076dfc-b9ad-4769-8c92-a6c4dae69d19",
    "_uuid": "8f2839f25d086af736a60e9eeb907d3b93b6e0e5",
    "execution": {
     "iopub.execute_input": "2021-10-08T23:30:04.414487Z",
     "iopub.status.busy": "2021-10-08T23:30:04.414146Z",
     "iopub.status.idle": "2021-10-08T23:30:04.447894Z",
     "shell.execute_reply": "2021-10-08T23:30:04.446846Z",
     "shell.execute_reply.started": "2021-10-08T23:30:04.414403Z"
    }
   },
   "source": [
    "# Digit Recognizer (Kaggle)\n",
    "\n",
    "<img src=\"https://www.researchgate.net/profile/Hugo-Larochelle/publication/200744481/figure/fig1/AS:668968306098181@1536505881710/Samples-from-the-MNIST-digit-recognition-data-set-Here-a-black-pixel-corresponds-to-an.png\" style=\"width:450;height:300px;\">"
   ]
  },
  {
   "cell_type": "markdown",
   "metadata": {},
   "source": [
    "### 1. Packages"
   ]
  },
  {
   "cell_type": "code",
   "execution_count": 40,
   "metadata": {
    "execution": {
     "iopub.execute_input": "2021-10-13T21:24:51.278888Z",
     "iopub.status.busy": "2021-10-13T21:24:51.278511Z",
     "iopub.status.idle": "2021-10-13T21:24:51.287562Z",
     "shell.execute_reply": "2021-10-13T21:24:51.286311Z",
     "shell.execute_reply.started": "2021-10-13T21:24:51.278854Z"
    }
   },
   "outputs": [],
   "source": [
    "import os\n",
    "os.environ['TF_CPP_MIN_LOG_LEVEL'] = '2'\n",
    "#Disable warnings\n",
    "import warnings\n",
    "warnings.filterwarnings('ignore')\n",
    "\n",
    "import numpy as np # linear algebra\n",
    "import pandas as pd # data processing, CSV file I/O (e.g. pd.read_csv)\n",
    "import tensorflow as tf\n",
    "from tensorflow.keras.layers import Conv2D, MaxPooling2D, Input, MaxPool2D, Dense, Flatten, Dropout\n",
    "from tensorflow.keras.activations import relu\n",
    "from tensorflow.keras.utils import to_categorical\n",
    "import pandas as pd\n",
    "import numpy as np\n",
    "import matplotlib.pyplot as plt\n",
    "import seaborn as sns\n",
    "from sklearn.model_selection import train_test_split"
   ]
  },
  {
   "cell_type": "markdown",
   "metadata": {},
   "source": [
    "### 2. Data Preparation"
   ]
  },
  {
   "cell_type": "markdown",
   "metadata": {},
   "source": [
    "We are going to start by loading the datasets from the CSV files into a pandas DataFrames"
   ]
  },
  {
   "cell_type": "code",
   "execution_count": 41,
   "metadata": {
    "execution": {
     "iopub.execute_input": "2021-10-13T21:24:51.294731Z",
     "iopub.status.busy": "2021-10-13T21:24:51.294385Z",
     "iopub.status.idle": "2021-10-13T21:24:56.299767Z",
     "shell.execute_reply": "2021-10-13T21:24:56.298707Z",
     "shell.execute_reply.started": "2021-10-13T21:24:51.294698Z"
    }
   },
   "outputs": [],
   "source": [
    "#Training set\n",
    "train = pd.read_csv(\"./data/train.csv\")\n",
    "#Test set\n",
    "test  = pd.read_csv(\"./data/test.csv\")"
   ]
  },
  {
   "cell_type": "code",
   "execution_count": 42,
   "metadata": {
    "execution": {
     "iopub.execute_input": "2021-10-13T21:24:56.302204Z",
     "iopub.status.busy": "2021-10-13T21:24:56.301950Z",
     "iopub.status.idle": "2021-10-13T21:24:56.447606Z",
     "shell.execute_reply": "2021-10-13T21:24:56.446187Z",
     "shell.execute_reply.started": "2021-10-13T21:24:56.302175Z"
    }
   },
   "outputs": [],
   "source": [
    "# Training set label's\n",
    "y_train = train[\"label\"]\n",
    "# Trainable values, the pixels in our case\n",
    "x_train = train.drop(\"label\", axis = 1)"
   ]
  },
  {
   "cell_type": "markdown",
   "metadata": {},
   "source": [
    "So after recuperating the data, We need to have stats about the training."
   ]
  },
  {
   "cell_type": "code",
   "execution_count": 43,
   "metadata": {
    "execution": {
     "iopub.execute_input": "2021-10-13T21:24:56.449782Z",
     "iopub.status.busy": "2021-10-13T21:24:56.449467Z",
     "iopub.status.idle": "2021-10-13T21:24:56.725508Z",
     "shell.execute_reply": "2021-10-13T21:24:56.724351Z",
     "shell.execute_reply.started": "2021-10-13T21:24:56.449750Z"
    }
   },
   "outputs": [
    {
     "data": {
      "image/png": "[encoded data removed]",
      "text/plain": [
       "<Figure size 576x576 with 1 Axes>"
      ]
     },
     "metadata": {
      "needs_background": "light"
     },
     "output_type": "display_data"
    }
   ],
   "source": [
    "plt.figure(figsize=(8,8))\n",
    "g = sns.countplot(x = y_train)"
   ]
  },
  {
   "cell_type": "markdown",
   "metadata": {},
   "source": [
    "From this plot, we can see clearly that the dataset is balanced and training a model on this set will train different images of different digits"
   ]
  },
  {
   "cell_type": "code",
   "execution_count": 44,
   "metadata": {
    "execution": {
     "iopub.execute_input": "2021-10-13T21:24:56.727420Z",
     "iopub.status.busy": "2021-10-13T21:24:56.727131Z",
     "iopub.status.idle": "2021-10-13T21:24:56.738474Z",
     "shell.execute_reply": "2021-10-13T21:24:56.737305Z",
     "shell.execute_reply.started": "2021-10-13T21:24:56.727387Z"
    },
    "scrolled": true
   },
   "outputs": [
    {
     "data": {
      "text/plain": [
       "1    4684\n",
       "7    4401\n",
       "3    4351\n",
       "9    4188\n",
       "2    4177\n",
       "6    4137\n",
       "0    4132\n",
       "4    4072\n",
       "8    4063\n",
       "5    3795\n",
       "Name: label, dtype: int64"
      ]
     },
     "execution_count": 44,
     "metadata": {},
     "output_type": "execute_result"
    }
   ],
   "source": [
    "y_train.value_counts().sort_values(ascending = False)"
   ]
  },
  {
   "cell_type": "markdown",
   "metadata": {},
   "source": [
    "Let's see if we have some missing data .."
   ]
  },
  {
   "cell_type": "code",
   "execution_count": 45,
   "metadata": {
    "execution": {
     "iopub.execute_input": "2021-10-13T21:24:56.741579Z",
     "iopub.status.busy": "2021-10-13T21:24:56.741295Z",
     "iopub.status.idle": "2021-10-13T21:24:56.787057Z",
     "shell.execute_reply": "2021-10-13T21:24:56.785880Z",
     "shell.execute_reply.started": "2021-10-13T21:24:56.741547Z"
    }
   },
   "outputs": [
    {
     "name": "stdout",
     "output_type": "stream",
     "text": [
      "The number of missing values in the whole dataset is: 0\n"
     ]
    }
   ],
   "source": [
    "na_values = x_train.isnull().sum(axis = 1).sum() #Missing values\n",
    "print(\"The number of missing values in the whole dataset is:\", na_values)"
   ]
  },
  {
   "cell_type": "code",
   "execution_count": 46,
   "metadata": {
    "execution": {
     "iopub.execute_input": "2021-10-13T21:24:56.789155Z",
     "iopub.status.busy": "2021-10-13T21:24:56.788894Z",
     "iopub.status.idle": "2021-10-13T21:24:56.915223Z",
     "shell.execute_reply": "2021-10-13T21:24:56.913989Z",
     "shell.execute_reply.started": "2021-10-13T21:24:56.789125Z"
    }
   },
   "outputs": [],
   "source": [
    "#Scalling the values\n",
    "x_train = x_train/255\n",
    "x_test  = test/255"
   ]
  },
  {
   "cell_type": "code",
   "execution_count": 47,
   "metadata": {
    "execution": {
     "iopub.execute_input": "2021-10-13T21:24:56.917209Z",
     "iopub.status.busy": "2021-10-13T21:24:56.916956Z",
     "iopub.status.idle": "2021-10-13T21:24:56.923528Z",
     "shell.execute_reply": "2021-10-13T21:24:56.922882Z",
     "shell.execute_reply.started": "2021-10-13T21:24:56.917181Z"
    }
   },
   "outputs": [
    {
     "name": "stdout",
     "output_type": "stream",
     "text": [
      "[Befor reshaping]\n",
      "The training set shape is: (42000, 784)\n",
      "The test set shape is: (28000, 784)\n"
     ]
    }
   ],
   "source": [
    "print(\"[Befor reshaping]\")\n",
    "print(\"The training set shape is:\", x_train.shape)\n",
    "print(\"The test set shape is:\",  x_test.shape)"
   ]
  },
  {
   "cell_type": "code",
   "execution_count": 48,
   "metadata": {
    "execution": {
     "iopub.execute_input": "2021-10-13T21:24:56.926512Z",
     "iopub.status.busy": "2021-10-13T21:24:56.925880Z",
     "iopub.status.idle": "2021-10-13T21:24:56.937712Z",
     "shell.execute_reply": "2021-10-13T21:24:56.936962Z",
     "shell.execute_reply.started": "2021-10-13T21:24:56.926465Z"
    }
   },
   "outputs": [],
   "source": [
    "#Reshaping the training 28x28\n",
    "x_train = x_train.values.reshape(-1, 28, 28, 1)\n",
    "x_test = x_test.values.reshape(-1, 28, 28, 1)"
   ]
  },
  {
   "cell_type": "code",
   "execution_count": 49,
   "metadata": {
    "execution": {
     "iopub.execute_input": "2021-10-13T21:24:56.940191Z",
     "iopub.status.busy": "2021-10-13T21:24:56.938991Z",
     "iopub.status.idle": "2021-10-13T21:24:56.955357Z",
     "shell.execute_reply": "2021-10-13T21:24:56.953907Z",
     "shell.execute_reply.started": "2021-10-13T21:24:56.940157Z"
    }
   },
   "outputs": [
    {
     "name": "stdout",
     "output_type": "stream",
     "text": [
      "[After reshaping]\n",
      "The training set shape is: (42000, 28, 28, 1)\n",
      "The training labels set shape is: (42000,)\n",
      "The test set shape is: (28000, 28, 28, 1)\n"
     ]
    }
   ],
   "source": [
    "print(\"[After reshaping]\")\n",
    "print(\"The training set shape is:\", x_train.shape)\n",
    "print(\"The training labels set shape is:\", y_train.shape)\n",
    "print(\"The test set shape is:\",  x_test.shape)"
   ]
  },
  {
   "cell_type": "markdown",
   "metadata": {},
   "source": [
    "Here is some examples from the training .."
   ]
  },
  {
   "cell_type": "code",
   "execution_count": 50,
   "metadata": {
    "execution": {
     "iopub.execute_input": "2021-10-13T21:24:56.957853Z",
     "iopub.status.busy": "2021-10-13T21:24:56.957545Z",
     "iopub.status.idle": "2021-10-13T21:24:58.456491Z",
     "shell.execute_reply": "2021-10-13T21:24:58.455762Z",
     "shell.execute_reply.started": "2021-10-13T21:24:56.957806Z"
    }
   },
   "outputs": [
    {
     "data": {
      "image/png": "[encoded data removed]",
      "text/plain": [
       "<Figure size 720x576 with 10 Axes>"
      ]
     },
     "metadata": {
      "needs_background": "light"
     },
     "output_type": "display_data"
    }
   ],
   "source": [
    "fig, ax = plt.subplots(2, 5, figsize=(10, 8))\n",
    "fig.suptitle('Examples from the dataset')\n",
    "indices = [np.random.choice(np.where(y_train == i)[0]) for i in range(10)]\n",
    "for i, index in enumerate(indices):\n",
    "    ax[i//5, i%5].imshow(x_train[index,:,:, 0])\n",
    "    ax[i//5, i%5].set_title(\"y = \"+str(y_train[index]))"
   ]
  },
  {
   "cell_type": "markdown",
   "metadata": {},
   "source": [
    "The output of our model must be a 10 neurons layer, where we will apply a softmax"
   ]
  },
  {
   "cell_type": "code",
   "execution_count": 51,
   "metadata": {
    "execution": {
     "iopub.execute_input": "2021-10-13T21:24:58.458989Z",
     "iopub.status.busy": "2021-10-13T21:24:58.457938Z",
     "iopub.status.idle": "2021-10-13T21:24:58.465656Z",
     "shell.execute_reply": "2021-10-13T21:24:58.464806Z",
     "shell.execute_reply.started": "2021-10-13T21:24:58.458933Z"
    }
   },
   "outputs": [],
   "source": [
    "y_train = to_categorical(y_train, num_classes = 10)"
   ]
  },
  {
   "cell_type": "code",
   "execution_count": 52,
   "metadata": {
    "execution": {
     "iopub.execute_input": "2021-10-13T21:24:58.468471Z",
     "iopub.status.busy": "2021-10-13T21:24:58.467217Z",
     "iopub.status.idle": "2021-10-13T21:24:58.478332Z",
     "shell.execute_reply": "2021-10-13T21:24:58.477137Z",
     "shell.execute_reply.started": "2021-10-13T21:24:58.468421Z"
    }
   },
   "outputs": [
    {
     "name": "stdout",
     "output_type": "stream",
     "text": [
      "After transforming the output to one hot encoding\n",
      "The new shape of the output is  (42000, 10)\n"
     ]
    }
   ],
   "source": [
    "print(\"After transforming the output to one hot encoding\")\n",
    "print(\"The new shape of the output is \",y_train.shape)"
   ]
  },
  {
   "cell_type": "code",
   "execution_count": 53,
   "metadata": {
    "execution": {
     "iopub.execute_input": "2021-10-13T21:24:58.480182Z",
     "iopub.status.busy": "2021-10-13T21:24:58.479954Z",
     "iopub.status.idle": "2021-10-13T21:24:58.906467Z",
     "shell.execute_reply": "2021-10-13T21:24:58.905325Z",
     "shell.execute_reply.started": "2021-10-13T21:24:58.480156Z"
    }
   },
   "outputs": [],
   "source": [
    "#Spliting the data set into 15% for validation and 85% for training\n",
    "RANDOM = 3\n",
    "x_train, x_val, y_train, y_val = train_test_split(x_train, y_train, random_state=RANDOM, test_size=0.15 )"
   ]
  },
  {
   "cell_type": "code",
   "execution_count": 54,
   "metadata": {
    "execution": {
     "iopub.execute_input": "2021-10-13T21:24:58.912217Z",
     "iopub.status.busy": "2021-10-13T21:24:58.911908Z",
     "iopub.status.idle": "2021-10-13T21:24:58.920007Z",
     "shell.execute_reply": "2021-10-13T21:24:58.918747Z",
     "shell.execute_reply.started": "2021-10-13T21:24:58.912185Z"
    }
   },
   "outputs": [
    {
     "name": "stdout",
     "output_type": "stream",
     "text": [
      "Training set shape : (35700, 28, 28, 1)\n",
      "Training set labels shape : (35700, 10)\n",
      "Validation set shape : (6300, 28, 28, 1)\n",
      "Validation set labels shape : (6300, 10)\n"
     ]
    }
   ],
   "source": [
    "print(\"Training set shape :\",x_train.shape)\n",
    "print(\"Training set labels shape :\",y_train.shape)\n",
    "print(\"Validation set shape :\",x_val.shape)\n",
    "print(\"Validation set labels shape :\",y_val.shape)"
   ]
  },
  {
   "cell_type": "markdown",
   "metadata": {},
   "source": [
    "### 3. The model"
   ]
  },
  {
   "cell_type": "code",
   "execution_count": 58,
   "metadata": {
    "execution": {
     "iopub.execute_input": "2021-10-13T21:24:58.922209Z",
     "iopub.status.busy": "2021-10-13T21:24:58.921729Z",
     "iopub.status.idle": "2021-10-13T21:24:58.933496Z",
     "shell.execute_reply": "2021-10-13T21:24:58.932149Z",
     "shell.execute_reply.started": "2021-10-13T21:24:58.922166Z"
    }
   },
   "outputs": [],
   "source": [
    "def model():\n",
    "    \"\"\"\n",
    "    Implement the digit recognizer model composed from Conv Layers and Max pooling layers basicly.\n",
    "    \n",
    "    Arguments:\n",
    "        None\n",
    "    \n",
    "    Returns:\n",
    "        model -- a keras instance model with the image as input \n",
    "    \"\"\"\n",
    "    \n",
    "    ## Input Layer of shape 28x28\n",
    "    inputs = Input(shape=(28, 28, 1))\n",
    "    \n",
    "    ## Conv2D with 10 3x3 filters, same padding and ReLU activation\n",
    "    x      = Conv2D(10, 3, activation=\"relu\", padding='same')(inputs)\n",
    "    ## Max Pooling 2D with 2x2 pool size\n",
    "    x      = MaxPool2D(2, 2)(x)\n",
    "    \n",
    "    ## Conv2D with 16 5x5 filters, stride = 1 and ReLU activation\n",
    "    x      = Conv2D(16, 5, activation=\"relu\")(x)\n",
    "\n",
    "    ## Max Pooling 2D with 2x2 pool size\n",
    "    x      = MaxPool2D(2, 2)(x)\n",
    "    \n",
    "    ## Flatten the previous layer\n",
    "    x      = Flatten()(x)\n",
    "    \n",
    "    ## Layer of 120 units and ReLU activation\n",
    "    x      = Dense(120, activation=\"relu\")(x)\n",
    "    \n",
    "    ## Layer of 84 units and ReLU activation\n",
    "    x      = Dense(84, activation=\"relu\")(x)\n",
    "    \n",
    "    ## Output of 10 units with softmax activation\n",
    "    outputs = Dense(10, activation=\"softmax\")(x)\n",
    "    \n",
    "    model = tf.keras.Model(inputs=inputs, outputs=outputs)\n",
    "    \n",
    "    return model"
   ]
  },
  {
   "cell_type": "markdown",
   "metadata": {},
   "source": [
    "Let's train our model .."
   ]
  },
  {
   "cell_type": "code",
   "execution_count": 59,
   "metadata": {
    "execution": {
     "iopub.execute_input": "2021-10-13T21:24:58.935685Z",
     "iopub.status.busy": "2021-10-13T21:24:58.935395Z",
     "iopub.status.idle": "2021-10-13T21:24:59.030676Z",
     "shell.execute_reply": "2021-10-13T21:24:59.029587Z",
     "shell.execute_reply.started": "2021-10-13T21:24:58.935655Z"
    }
   },
   "outputs": [
    {
     "name": "stdout",
     "output_type": "stream",
     "text": [
      "Model: \"model_4\"\n",
      "_________________________________________________________________\n",
      "Layer (type)                 Output Shape              Param #   \n",
      "=================================================================\n",
      "input_5 (InputLayer)         [(None, 28, 28, 1)]       0         \n",
      "_________________________________________________________________\n",
      "conv2d_8 (Conv2D)            (None, 28, 28, 10)        100       \n",
      "_________________________________________________________________\n",
      "max_pooling2d_8 (MaxPooling2 (None, 14, 14, 10)        0         \n",
      "_________________________________________________________________\n",
      "conv2d_9 (Conv2D)            (None, 10, 10, 16)        4016      \n",
      "_________________________________________________________________\n",
      "max_pooling2d_9 (MaxPooling2 (None, 5, 5, 16)          0         \n",
      "_________________________________________________________________\n",
      "flatten_4 (Flatten)          (None, 400)               0         \n",
      "_________________________________________________________________\n",
      "dense_12 (Dense)             (None, 120)               48120     \n",
      "_________________________________________________________________\n",
      "dense_13 (Dense)             (None, 84)                10164     \n",
      "_________________________________________________________________\n",
      "dense_14 (Dense)             (None, 10)                850       \n",
      "=================================================================\n",
      "Total params: 63,250\n",
      "Trainable params: 63,250\n",
      "Non-trainable params: 0\n",
      "_________________________________________________________________\n"
     ]
    }
   ],
   "source": [
    "model = model()\n",
    "model.compile(optimizer='adam',\n",
    "              loss='categorical_crossentropy',\n",
    "               metrics=['accuracy'])\n",
    "model.summary()"
   ]
  },
  {
   "cell_type": "code",
   "execution_count": 60,
   "metadata": {
    "execution": {
     "iopub.execute_input": "2021-10-13T21:24:59.033169Z",
     "iopub.status.busy": "2021-10-13T21:24:59.032438Z",
     "iopub.status.idle": "2021-10-13T21:29:51.488252Z",
     "shell.execute_reply": "2021-10-13T21:29:51.486751Z",
     "shell.execute_reply.started": "2021-10-13T21:24:59.033102Z"
    }
   },
   "outputs": [
    {
     "name": "stderr",
     "output_type": "stream",
     "text": [
      "2021-10-13 23:50:26.593418: W tensorflow/core/framework/cpu_allocator_impl.cc:80] Allocation of 111955200 exceeds 10% of free system memory.\n"
     ]
    },
    {
     "name": "stdout",
     "output_type": "stream",
     "text": [
      "Epoch 1/25\n",
      "558/558 [==============================] - 9s 16ms/step - loss: 0.3126 - accuracy: 0.9030 - val_loss: 0.1094 - val_accuracy: 0.9663\n",
      "Epoch 2/25\n",
      "558/558 [==============================] - 9s 16ms/step - loss: 0.0820 - accuracy: 0.9744 - val_loss: 0.0763 - val_accuracy: 0.9770\n",
      "Epoch 3/25\n",
      "558/558 [==============================] - 9s 16ms/step - loss: 0.0553 - accuracy: 0.9828 - val_loss: 0.0730 - val_accuracy: 0.9767\n",
      "Epoch 4/25\n",
      "558/558 [==============================] - 10s 18ms/step - loss: 0.0401 - accuracy: 0.9873 - val_loss: 0.0614 - val_accuracy: 0.9817\n",
      "Epoch 5/25\n",
      "558/558 [==============================] - 9s 15ms/step - loss: 0.0343 - accuracy: 0.9890 - val_loss: 0.0535 - val_accuracy: 0.9843\n",
      "Epoch 6/25\n",
      "558/558 [==============================] - 8s 15ms/step - loss: 0.0281 - accuracy: 0.9911 - val_loss: 0.0544 - val_accuracy: 0.9830\n",
      "Epoch 7/25\n",
      "558/558 [==============================] - 8s 15ms/step - loss: 0.0236 - accuracy: 0.9925 - val_loss: 0.0723 - val_accuracy: 0.9790\n",
      "Epoch 8/25\n",
      "558/558 [==============================] - 9s 16ms/step - loss: 0.0175 - accuracy: 0.9940 - val_loss: 0.0507 - val_accuracy: 0.9848\n",
      "Epoch 9/25\n",
      "558/558 [==============================] - 8s 14ms/step - loss: 0.0165 - accuracy: 0.9946 - val_loss: 0.0559 - val_accuracy: 0.9846\n",
      "Epoch 10/25\n",
      "558/558 [==============================] - 9s 16ms/step - loss: 0.0132 - accuracy: 0.9958 - val_loss: 0.0671 - val_accuracy: 0.9816\n",
      "Epoch 11/25\n",
      "558/558 [==============================] - 8s 14ms/step - loss: 0.0138 - accuracy: 0.9958 - val_loss: 0.0575 - val_accuracy: 0.9849\n",
      "Epoch 12/25\n",
      "558/558 [==============================] - 8s 14ms/step - loss: 0.0110 - accuracy: 0.9964 - val_loss: 0.0573 - val_accuracy: 0.9844\n",
      "Epoch 13/25\n",
      "558/558 [==============================] - 8s 14ms/step - loss: 0.0102 - accuracy: 0.9965 - val_loss: 0.0581 - val_accuracy: 0.9852\n",
      "Epoch 14/25\n",
      "558/558 [==============================] - 8s 14ms/step - loss: 0.0112 - accuracy: 0.9962 - val_loss: 0.0671 - val_accuracy: 0.9832\n",
      "Epoch 15/25\n",
      "558/558 [==============================] - 9s 15ms/step - loss: 0.0107 - accuracy: 0.9966 - val_loss: 0.0664 - val_accuracy: 0.9837\n",
      "Epoch 16/25\n",
      "558/558 [==============================] - 8s 14ms/step - loss: 0.0045 - accuracy: 0.9985 - val_loss: 0.0640 - val_accuracy: 0.9829\n",
      "Epoch 17/25\n",
      "558/558 [==============================] - 9s 16ms/step - loss: 0.0078 - accuracy: 0.9973 - val_loss: 0.0738 - val_accuracy: 0.9838\n",
      "Epoch 18/25\n",
      "558/558 [==============================] - 8s 15ms/step - loss: 0.0065 - accuracy: 0.9976 - val_loss: 0.0733 - val_accuracy: 0.9848\n",
      "Epoch 19/25\n",
      "558/558 [==============================] - 8s 15ms/step - loss: 0.0081 - accuracy: 0.9971 - val_loss: 0.0737 - val_accuracy: 0.9835\n",
      "Epoch 20/25\n",
      "558/558 [==============================] - 9s 15ms/step - loss: 0.0047 - accuracy: 0.9983 - val_loss: 0.0747 - val_accuracy: 0.9852\n",
      "Epoch 21/25\n",
      "558/558 [==============================] - 8s 15ms/step - loss: 0.0058 - accuracy: 0.9981 - val_loss: 0.0826 - val_accuracy: 0.9830\n",
      "Epoch 22/25\n",
      "558/558 [==============================] - 8s 14ms/step - loss: 0.0048 - accuracy: 0.9987 - val_loss: 0.0793 - val_accuracy: 0.9822\n",
      "Epoch 23/25\n",
      "558/558 [==============================] - 7s 13ms/step - loss: 0.0063 - accuracy: 0.9979 - val_loss: 0.0877 - val_accuracy: 0.9813\n",
      "Epoch 24/25\n",
      "558/558 [==============================] - 8s 14ms/step - loss: 0.0041 - accuracy: 0.9987 - val_loss: 0.0686 - val_accuracy: 0.9859\n",
      "Epoch 25/25\n",
      "558/558 [==============================] - 8s 14ms/step - loss: 0.0040 - accuracy: 0.9988 - val_loss: 0.0897 - val_accuracy: 0.9849\n"
     ]
    }
   ],
   "source": [
    "EPOCHS = 25\n",
    "BATCH_SIZE = 64\n",
    "history = model.fit(x=x_train, y=y_train, batch_size=BATCH_SIZE,\n",
    "    epochs=EPOCHS, validation_data=(x_val, y_val))"
   ]
  },
  {
   "cell_type": "code",
   "execution_count": 61,
   "metadata": {
    "execution": {
     "iopub.execute_input": "2021-10-13T21:29:51.490796Z",
     "iopub.status.busy": "2021-10-13T21:29:51.490501Z",
     "iopub.status.idle": "2021-10-13T21:29:51.973643Z",
     "shell.execute_reply": "2021-10-13T21:29:51.972306Z",
     "shell.execute_reply.started": "2021-10-13T21:29:51.490762Z"
    }
   },
   "outputs": [
    {
     "data": {
      "text/plain": [
       "<matplotlib.legend.Legend at 0x7fbced8aa190>"
      ]
     },
     "execution_count": 61,
     "metadata": {},
     "output_type": "execute_result"
    },
    {
     "data": {
      "image/png": "[encoded data removed]",
      "text/plain": [
       "<Figure size 720x360 with 2 Axes>"
      ]
     },
     "metadata": {
      "needs_background": "light"
     },
     "output_type": "display_data"
    }
   ],
   "source": [
    "fig, ax = plt.subplots(1, 2,figsize=(10,5))\n",
    "\n",
    "#Accuracy plot\n",
    "ax[0].plot(history.history[\"accuracy\"], color='b', label=\"Training accuracy\")\n",
    "ax[0].plot(history.history[\"val_accuracy\"], color='orange', label=\"Validation accuracy\")\n",
    "ax[0].legend(loc='best', shadow=True)\n",
    "\n",
    "#Loss plot\n",
    "ax[1].plot(history.history[\"loss\"], color='b', label=\"Training loss\")\n",
    "ax[1].plot(history.history[\"val_loss\"], color='orange', label=\"Validation loss\")\n",
    "ax[1].legend(loc='best', shadow=True)\n"
   ]
  },
  {
   "cell_type": "code",
   "execution_count": 62,
   "metadata": {
    "execution": {
     "iopub.execute_input": "2021-10-13T21:29:51.975543Z",
     "iopub.status.busy": "2021-10-13T21:29:51.975289Z",
     "iopub.status.idle": "2021-10-13T21:29:52.949537Z",
     "shell.execute_reply": "2021-10-13T21:29:52.948310Z",
     "shell.execute_reply.started": "2021-10-13T21:29:51.975513Z"
    }
   },
   "outputs": [],
   "source": [
    "#Prediction on the validation set\n",
    "y_pred = np.argmax(model.predict(x_val), axis=1)\n",
    "y_true = np.argmax(y_val, axis = 1)\n",
    "diff = y_true-y_pred != 0"
   ]
  },
  {
   "cell_type": "markdown",
   "metadata": {},
   "source": [
    "Let's see how where our model has done errors .. "
   ]
  },
  {
   "cell_type": "code",
   "execution_count": 86,
   "metadata": {
    "execution": {
     "iopub.execute_input": "2021-10-13T21:33:00.130451Z",
     "iopub.status.busy": "2021-10-13T21:33:00.130135Z",
     "iopub.status.idle": "2021-10-13T21:33:00.756985Z",
     "shell.execute_reply": "2021-10-13T21:33:00.755842Z",
     "shell.execute_reply.started": "2021-10-13T21:33:00.130419Z"
    }
   },
   "outputs": [
    {
     "data": {
      "image/png": "[encoded data removed]",
      "text/plain": [
       "<Figure size 864x432 with 5 Axes>"
      ]
     },
     "metadata": {
      "needs_background": "light"
     },
     "output_type": "display_data"
    }
   ],
   "source": [
    "from random import choices\n",
    "ens_index = set()\n",
    "for index, val in enumerate(diff):\n",
    "    if (val): ens_index.add(index)\n",
    "indices = choices(list(ens_index), k=16)\n",
    "plt.figure(figsize=(12, 6))\n",
    "for i in range(5):\n",
    "    index = indices[i]\n",
    "    ax = plt.subplot(1, 5, i + 1)\n",
    "    plt.imshow(x_val[index,:,:,0])\n",
    "    plt.title(\"Predicted: \"+str(y_pred[index])+\". True: \"+str(y_true[index]))\n",
    "    plt.axis(\"off\")"
   ]
  },
  {
   "cell_type": "markdown",
   "metadata": {},
   "source": [
    "### We can see clearly that even us as humans we can not distuing the real value of those handwritten digits. "
   ]
  },
  {
   "cell_type": "code",
   "execution_count": 44,
   "metadata": {
    "execution": {
     "iopub.execute_input": "2021-10-13T21:29:53.889678Z",
     "iopub.status.busy": "2021-10-13T21:29:53.889334Z",
     "iopub.status.idle": "2021-10-13T21:29:58.302933Z",
     "shell.execute_reply": "2021-10-13T21:29:58.301907Z",
     "shell.execute_reply.started": "2021-10-13T21:29:53.889650Z"
    }
   },
   "outputs": [],
   "source": [
    "predictions = model.predict(x_test)\n",
    "predictions = np.argmax(predictions, axis = 1)\n",
    "predictions = pd.Series(predictions,name=\"Label\")\n",
    "submission = pd.concat([pd.Series(range(1,28001),name = \"ImageId\"),predictions],axis = 1)\n",
    "submission.to_csv(\"submission.csv\",index=False)"
   ]
  },
  {
   "cell_type": "code",
   "execution_count": null,
   "metadata": {},
   "outputs": [],
   "source": []
  }
 ],
 "metadata": {
  "kernelspec": {
   "display_name": "Python 3 (ipykernel)",
   "language": "python",
   "name": "python3"
  },
  "language_info": {
   "codemirror_mode": {
    "name": "ipython",
    "version": 3
   },
   "file_extension": ".py",
   "mimetype": "text/x-python",
   "name": "python",
   "nbconvert_exporter": "python",
   "pygments_lexer": "ipython3",
   "version": "3.8.10"
  }
 },
 "nbformat": 4,
 "nbformat_minor": 4
}
